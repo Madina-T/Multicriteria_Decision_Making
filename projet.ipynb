{
 "cells": [
  {
   "cell_type": "markdown",
   "metadata": {},
   "source": [
    "# Projet MADMC 2019-2020 :"
   ]
  },
  {
   "cell_type": "markdown",
   "metadata": {},
   "source": [
    "## Elicitation incrémentale et recherche locale pour le problème de sélection multi-objectifs"
   ]
  },
  {
   "cell_type": "markdown",
   "metadata": {},
   "source": [
    "__**Étudiante**__ : Madina TRAORÉ"
   ]
  },
  {
   "cell_type": "markdown",
   "metadata": {},
   "source": [
    "#### Imports"
   ]
  },
  {
   "cell_type": "code",
   "execution_count": 1,
   "metadata": {},
   "outputs": [],
   "source": [
    "%matplotlib inline\n",
    "\n",
    "import numpy as np\n",
    "import random\n",
    "import copy\n",
    "import time\n",
    "import os.path\n",
    "import matplotlib.pyplot as plt\n",
    "from scipy.signal import savgol_filter\n",
    "from scipy.interpolate import make_interp_spline, BSpline\n",
    "from gurobipy import *\n",
    "\n",
    "%reload_ext autoreload\n",
    "%autoreload 2\n",
    "from ndtree import *"
   ]
  },
  {
   "cell_type": "markdown",
   "metadata": {},
   "source": [
    "#### Lecture des données"
   ]
  },
  {
   "cell_type": "code",
   "execution_count": 77,
   "metadata": {},
   "outputs": [],
   "source": [
    "def get_data(n, p):\n",
    "    \n",
    "    \"\"\"\n",
    "        Fonction permettant de récupérer tout ou partie des données\n",
    "        (objets à sélectionner représentés par leurs valuations)\\n\",\n",
    "        Entrées :\n",
    "            n : nombre d'objets à considérer\n",
    "            p : nombre de critères à considérer\n",
    "        Sortie :\n",
    "            data : liste constituée des valuations des n premiers\n",
    "            objets selon les p premiers critères\n",
    "    \"\"\"\n",
    "    \n",
    "    data = []\n",
    "    with open('dataSelection.txt', 'r') as f:\n",
    "        i = 0\n",
    "        for line in f.readlines():\n",
    "            if i < n:\n",
    "                data.append(list(map(int,line.split()))[:p])\n",
    "            else:\n",
    "                break\n",
    "            i += 1\n",
    "    return data"
   ]
  },
  {
   "cell_type": "code",
   "execution_count": 78,
   "metadata": {},
   "outputs": [
    {
     "name": "stdout",
     "output_type": "stream",
     "text": [
      "Valuations de chaque objet constituant l'ensemble des données : [[1, 34], [9, 53], [52, 44], [67, 70], [69, 81], [70, 52], [21, 45], [2, 11], [98, 76], [26, 30]] \n",
      "\n"
     ]
    }
   ],
   "source": [
    "# Exemple d'utilisation\n",
    "n = 10\n",
    "p = 2\n",
    "data = get_data(n,p)\n",
    "print(\"Valuations de chaque objet constituant l'ensemble des données :\", data,\"\\n\")"
   ]
  },
  {
   "cell_type": "markdown",
   "metadata": {},
   "source": [
    "#### Fonctions d'agrégation"
   ]
  },
  {
   "cell_type": "code",
   "execution_count": 79,
   "metadata": {},
   "outputs": [],
   "source": [
    "def weighted_sum(x, w):\n",
    "    return sum([x[i] * w[i] for i in range(len(x))])"
   ]
  },
  {
   "cell_type": "code",
   "execution_count": 80,
   "metadata": {},
   "outputs": [],
   "source": [
    "def OWA(x, w):\n",
    "    x = sorted(x)\n",
    "    return weighted_sum(x,w)"
   ]
  },
  {
   "cell_type": "markdown",
   "metadata": {},
   "source": [
    "#### Fonctions utilisées dans les deux procédures"
   ]
  },
  {
   "cell_type": "code",
   "execution_count": 81,
   "metadata": {},
   "outputs": [],
   "source": [
    "def generate_random_solution(n,k):\n",
    "    \n",
    "    \"\"\"\n",
    "        Fonction permettant de générer une solution admissible de\n",
    "        manière aléatoire\n",
    "        Entrées :\n",
    "            n : nombre total d'objets\n",
    "            k : nombre d'objets à sélectionner\n",
    "        Sortie :\n",
    "            x : solution admissible générée aléatoirement\n",
    "    \"\"\"\n",
    "    \n",
    "    ind_selected_objects = random.sample(range(0, n), k)\n",
    "    x = [1 if i in ind_selected_objects else 0 for i in range(n)]\n",
    "    return x"
   ]
  },
  {
   "cell_type": "code",
   "execution_count": 91,
   "metadata": {},
   "outputs": [
    {
     "name": "stdout",
     "output_type": "stream",
     "text": [
      "Solution générée aléatoirement : [1, 1, 0, 0, 1, 0, 1, 0, 0, 1]\n"
     ]
    }
   ],
   "source": [
    "# Exemple d'utilisation\n",
    "n = 10\n",
    "k = 5\n",
    "x = generate_random_solution(n,k)\n",
    "print(\"Solution générée aléatoirement :\", x)"
   ]
  },
  {
   "cell_type": "code",
   "execution_count": 83,
   "metadata": {},
   "outputs": [],
   "source": [
    "def eval_solution(x, data):\n",
    "    \n",
    "    \"\"\"\n",
    "        Fonction permettant d'évaluer une solution x\n",
    "        Entrées :\n",
    "            x : solution admissible\n",
    "            data : ensemble des objets représentés par leurs valuations\n",
    "        Sortie :\n",
    "            y : évaluation de x (somme des valuations pour chaque critère)\n",
    "    \"\"\"\n",
    "    \n",
    "    ind_selected_objects = [i for i, v in enumerate(x) if v == 1]\n",
    "    c_selected_objects = [data[i] for i in ind_selected_objects]\n",
    "    y = list(np.sum(c_selected_objects, axis=0))\n",
    "    return y"
   ]
  },
  {
   "cell_type": "code",
   "execution_count": 92,
   "metadata": {},
   "outputs": [
    {
     "name": "stdout",
     "output_type": "stream",
     "text": [
      "Solution générée aléatoirement : [0, 0, 1, 1, 1, 1, 1, 0, 0, 0] \n",
      "\n",
      "Valeur de cette solution: [279, 292]\n"
     ]
    }
   ],
   "source": [
    "# Exemple d'utilisation\n",
    "n = 10\n",
    "k = 5\n",
    "x = generate_random_solution(n,k)\n",
    "print(\"Solution générée aléatoirement :\", x,\"\\n\")\n",
    "y_x = eval_solution(x, data)\n",
    "print(\"Valeur de cette solution:\", y_x)"
   ]
  },
  {
   "cell_type": "code",
   "execution_count": 59,
   "metadata": {},
   "outputs": [],
   "source": [
    "def generate_neighbours(x, data):\n",
    "    \n",
    "    \"\"\"\n",
    "        Fonction permettant de générer les voisins d'une solution x\n",
    "        Entrées :\n",
    "            x : solution admissible\n",
    "            data : ensemble des objets représentés par leurs valuations\n",
    "        Sortie :\n",
    "            neighbours : ensemble des voisins de x (fonction de\n",
    "            voisinnage : échange 1-1)\n",
    "    \"\"\"\n",
    "    \n",
    "    ind_selected_objects = [i for i, v in enumerate(x) if v == 1]\n",
    "    neighbours = []\n",
    "    \n",
    "    for i in ind_selected_objects:\n",
    "        for j in range(len(x)):\n",
    "            neighbour = copy.deepcopy(x)\n",
    "            neighbour[i] = 0\n",
    "            if j not in ind_selected_objects:\n",
    "                neighbour[j] = 1\n",
    "                neighbours.append(neighbour)\n",
    "    return neighbours"
   ]
  },
  {
   "cell_type": "code",
   "execution_count": 93,
   "metadata": {},
   "outputs": [
    {
     "name": "stdout",
     "output_type": "stream",
     "text": [
      "Solution x générée aléatoirement : [1, 0, 0, 1, 1, 1, 0, 0, 0, 1] \n",
      "\n",
      "Valeur x: [233, 267] \n",
      "\n",
      "Voisins de x : [[0, 1, 0, 1, 1, 1, 0, 0, 0, 1], [0, 0, 1, 1, 1, 1, 0, 0, 0, 1], [0, 0, 0, 1, 1, 1, 1, 0, 0, 1], [0, 0, 0, 1, 1, 1, 0, 1, 0, 1], [0, 0, 0, 1, 1, 1, 0, 0, 1, 1], [1, 1, 0, 0, 1, 1, 0, 0, 0, 1], [1, 0, 1, 0, 1, 1, 0, 0, 0, 1], [1, 0, 0, 0, 1, 1, 1, 0, 0, 1], [1, 0, 0, 0, 1, 1, 0, 1, 0, 1], [1, 0, 0, 0, 1, 1, 0, 0, 1, 1], [1, 1, 0, 1, 0, 1, 0, 0, 0, 1], [1, 0, 1, 1, 0, 1, 0, 0, 0, 1], [1, 0, 0, 1, 0, 1, 1, 0, 0, 1], [1, 0, 0, 1, 0, 1, 0, 1, 0, 1], [1, 0, 0, 1, 0, 1, 0, 0, 1, 1], [1, 1, 0, 1, 1, 0, 0, 0, 0, 1], [1, 0, 1, 1, 1, 0, 0, 0, 0, 1], [1, 0, 0, 1, 1, 0, 1, 0, 0, 1], [1, 0, 0, 1, 1, 0, 0, 1, 0, 1], [1, 0, 0, 1, 1, 0, 0, 0, 1, 1], [1, 1, 0, 1, 1, 1, 0, 0, 0, 0], [1, 0, 1, 1, 1, 1, 0, 0, 0, 0], [1, 0, 0, 1, 1, 1, 1, 0, 0, 0], [1, 0, 0, 1, 1, 1, 0, 1, 0, 0], [1, 0, 0, 1, 1, 1, 0, 0, 1, 0]] \n",
      "\n",
      "Leurs évaluations : [[241, 286], [284, 277], [253, 278], [234, 244], [330, 309], [175, 250], [218, 241], [187, 242], [168, 208], [264, 273], [173, 239], [216, 230], [185, 231], [166, 197], [262, 262], [172, 268], [215, 259], [184, 260], [165, 226], [261, 291], [216, 290], [259, 281], [228, 282], [209, 248], [305, 313]] \n",
      "\n"
     ]
    }
   ],
   "source": [
    "# Exemple d'utilisation\n",
    "n = 10\n",
    "p = 2\n",
    "k = 5\n",
    "x = generate_random_solution(n,k)\n",
    "print(\"Solution x générée aléatoirement :\", x,\"\\n\")\n",
    "y_x = eval_solution(x, data)\n",
    "print(\"Valeur x:\", y_x,\"\\n\")\n",
    "N = generate_neighbours(x, get_data(n,p))\n",
    "print(\"Voisins de x :\", N,\"\\n\")\n",
    "print(\"Leurs évaluations :\", [eval_solution(sol,data) for sol in N],\"\\n\")"
   ]
  },
  {
   "cell_type": "markdown",
   "metadata": {},
   "source": [
    "### Première procédure de résolution"
   ]
  },
  {
   "cell_type": "markdown",
   "metadata": {},
   "source": [
    "#### 1) Détermination d'une approximation des points non-dominés (au sens de Pareto)"
   ]
  },
  {
   "cell_type": "code",
   "execution_count": 86,
   "metadata": {},
   "outputs": [],
   "source": [
    "def non_dominated_solutions(X, data):\n",
    "    \n",
    "    \"\"\"\n",
    "        Fonction permettant de déterminer l'ensemble des solutions\n",
    "        non dominées étant donné un ensemble de solutions X\n",
    "        Entrées :\n",
    "            X : ensemble de solutions admissibles\n",
    "            data : ensemble des objets représentés par leurs valuations\n",
    "        Sortie :\n",
    "            non_dominated_solutions : ensemble des solutions non dominées de X\n",
    "            y_non_dominated_solutions : évaluations des solutions non dominées de X\n",
    "    \"\"\"\n",
    "    \n",
    "    y_X = [eval_solution(x, data) for x in X]\n",
    "    non_dominated_solutions = copy.deepcopy(X)\n",
    "    y_non_dominated_solutions = copy.deepcopy(y_X)\n",
    "    for i in range(len(X)):\n",
    "        x1 = X[i]\n",
    "        y1 = y_X[i]\n",
    "        for j in range(len(non_dominated_solutions)):\n",
    "            y2 = y_non_dominated_solutions[j]\n",
    "            # x1 est dominee\n",
    "            if all(yi[0] > yi[1] for yi in zip(y2, y1)):\n",
    "                # on retire donc x1 de l'ensemble des solutions non dominees\n",
    "                non_dominated_solutions.remove(x1)\n",
    "                y_non_dominated_solutions.remove(y1)\n",
    "                break\n",
    "    return non_dominated_solutions,y_non_dominated_solutions"
   ]
  },
  {
   "cell_type": "code",
   "execution_count": 94,
   "metadata": {
    "scrolled": false
   },
   "outputs": [
    {
     "name": "stdout",
     "output_type": "stream",
     "text": [
      "Solution x générée aléatoirement : [1, 1, 0, 0, 0, 1, 1, 0, 1, 0] \n",
      "\n",
      "Valeur x: [199, 260] \n",
      "\n",
      "Voisins de x : [[0, 1, 1, 0, 0, 1, 1, 0, 1, 0], [0, 1, 0, 1, 0, 1, 1, 0, 1, 0], [0, 1, 0, 0, 1, 1, 1, 0, 1, 0], [0, 1, 0, 0, 0, 1, 1, 1, 1, 0], [0, 1, 0, 0, 0, 1, 1, 0, 1, 1], [1, 0, 1, 0, 0, 1, 1, 0, 1, 0], [1, 0, 0, 1, 0, 1, 1, 0, 1, 0], [1, 0, 0, 0, 1, 1, 1, 0, 1, 0], [1, 0, 0, 0, 0, 1, 1, 1, 1, 0], [1, 0, 0, 0, 0, 1, 1, 0, 1, 1], [1, 1, 1, 0, 0, 0, 1, 0, 1, 0], [1, 1, 0, 1, 0, 0, 1, 0, 1, 0], [1, 1, 0, 0, 1, 0, 1, 0, 1, 0], [1, 1, 0, 0, 0, 0, 1, 1, 1, 0], [1, 1, 0, 0, 0, 0, 1, 0, 1, 1], [1, 1, 1, 0, 0, 1, 0, 0, 1, 0], [1, 1, 0, 1, 0, 1, 0, 0, 1, 0], [1, 1, 0, 0, 1, 1, 0, 0, 1, 0], [1, 1, 0, 0, 0, 1, 0, 1, 1, 0], [1, 1, 0, 0, 0, 1, 0, 0, 1, 1], [1, 1, 1, 0, 0, 1, 1, 0, 0, 0], [1, 1, 0, 1, 0, 1, 1, 0, 0, 0], [1, 1, 0, 0, 1, 1, 1, 0, 0, 0], [1, 1, 0, 0, 0, 1, 1, 1, 0, 0], [1, 1, 0, 0, 0, 1, 1, 0, 0, 1]] \n",
      "\n",
      "Leurs évaluations : [[250, 270], [265, 296], [267, 307], [200, 237], [224, 256], [242, 251], [257, 277], [259, 288], [192, 218], [216, 237], [181, 252], [196, 278], [198, 289], [131, 219], [155, 238], [230, 259], [245, 285], [247, 296], [180, 226], [204, 245], [153, 228], [168, 254], [170, 265], [103, 195], [127, 214]] \n",
      "\n",
      "Évaluation des solutions non dominées parmi x et ses voisins : [[267, 307]]\n"
     ]
    }
   ],
   "source": [
    "# Exemple d'utilisation\n",
    "n = 10\n",
    "p = 2\n",
    "k = 5\n",
    "data = get_data(n,p)\n",
    "x = generate_random_solution(n,k)\n",
    "print(\"Solution x générée aléatoirement :\", x,\"\\n\")\n",
    "y_x = eval_solution(x, data)\n",
    "print(\"Valeur x:\", y_x,\"\\n\")\n",
    "N = generate_neighbours(x, data)\n",
    "print(\"Voisins de x :\", N,\"\\n\")\n",
    "print(\"Leurs évaluations :\", [eval_solution(sol,data) for sol in N],\"\\n\")\n",
    "nd, y_nd = non_dominated_solutions(N + [x], data)\n",
    "print(\"Évaluation des solutions non dominées parmi x et ses voisins :\",y_nd)"
   ]
  },
  {
   "cell_type": "code",
   "execution_count": 63,
   "metadata": {},
   "outputs": [],
   "source": [
    "def PLS(k, data):\n",
    "    \n",
    "    \"\"\"\n",
    "        Implémentation de la recherche locale de Pareto pour le\n",
    "        problème de sélection multi-objectifs\n",
    "        Entrées :\n",
    "            k : nombre d'objets à sélectionner\n",
    "            data : ensemble des objets représentés par leurs valuations\n",
    "        Sorties :\n",
    "            XE : solutions effficaces trouvées\n",
    "            YE : évaluations des solutions efficaces trouvées\n",
    "    \"\"\"\n",
    "    \n",
    "    x = generate_random_solution(len(data),k)\n",
    "    y_x = eval_solution(x,data)\n",
    "    XE = [x]\n",
    "    YE = [y_x]\n",
    "    P = [x]\n",
    "    y_P = [y_x]\n",
    "    Pa = []\n",
    "    y_Pa = []\n",
    "    new_XE = []\n",
    "    new_YE = []\n",
    "    \n",
    "    P_done = []\n",
    "    \n",
    "    while P:\n",
    "        for p in P:\n",
    "            #print(\"P =\", [eval_solution(p,data) for p in P])\n",
    "            #print(\"P_done =\", [eval_solution(p,data) for p in P_done])\n",
    "            P_done.append(p)\n",
    "            y_p = eval_solution(p,data)\n",
    "            N = generate_neighbours(p,data) # voisins de p\n",
    "            l = XE + [p] + N\n",
    "            l = list(np.unique(l,axis=0)) # ensemble des solutions a traiter pour cette iteration\n",
    "            solutions = []\n",
    "            for x in l:\n",
    "                solutions.append(list(x))\n",
    "            new_XE, new_YE = non_dominated_solutions(solutions, data)\n",
    "            for xe in new_XE:\n",
    "                if xe not in P_done and xe not in Pa:\n",
    "                    Pa.append(xe)\n",
    "            XE = new_XE\n",
    "            YE = new_YE\n",
    "            #print(\"x =\", y_p)\n",
    "            #print(\"N =\",[eval_solution(n,data) for n in N])\n",
    "            #print(\"YE =\", YE,\"\\n\")\n",
    "        P = Pa\n",
    "        Pa = []\n",
    "    return XE, YE"
   ]
  },
  {
   "cell_type": "code",
   "execution_count": 95,
   "metadata": {
    "scrolled": true
   },
   "outputs": [
    {
     "name": "stdout",
     "output_type": "stream",
     "text": [
      "Valuations de chaque objet constituant l'ensemble des données : [[1, 34], [9, 53], [52, 44], [67, 70], [69, 81], [70, 52], [21, 45], [2, 11], [98, 76], [26, 30]] \n",
      "\n",
      "Solutions trouvées par PLS : [[0, 0, 0, 1, 1, 1, 1, 0, 1, 0], [0, 0, 1, 1, 1, 1, 0, 0, 1, 0], [0, 1, 0, 1, 1, 1, 0, 0, 1, 0]] \n",
      "\n",
      "Leurs évaluations : [[325, 324], [356, 323], [313, 332]]\n"
     ]
    }
   ],
   "source": [
    "# Exemple d'utilisation\n",
    "n = 10\n",
    "p = 2\n",
    "data = get_data(n,p)\n",
    "print(\"Valuations de chaque objet constituant l'ensemble des données :\", data,\"\\n\")\n",
    "solutions, y_solutions = PLS(n//2,get_data(n,p))\n",
    "print(\"Solutions trouvées par PLS :\",solutions,\"\\n\")\n",
    "print(\"Leurs évaluations :\",y_solutions)"
   ]
  },
  {
   "cell_type": "code",
   "execution_count": 89,
   "metadata": {},
   "outputs": [],
   "source": [
    "def PLS_nd_tree(p, k, data):\n",
    "    \n",
    "    \"\"\"\n",
    "        Implémentation de la recherche locale de Pareto pour le\n",
    "        problème de sélection multi-objectifs avec un ND Tree\n",
    "        Entrées :\n",
    "            k : nombre d'objets à sélectionner\n",
    "            data : ensemble des objets représentés par leurs valuations\n",
    "        Sorties :\n",
    "            XE : solutions effficaces trouvées\n",
    "            YE : évaluations des solutions efficaces trouvées\n",
    "    \"\"\"\n",
    "    \n",
    "    ndtree = NDTree(20,p+1)\n",
    "    \n",
    "    x = generate_random_solution(len(data),k)\n",
    "    y_x = eval_solution(x,data)\n",
    "    \n",
    "    ndtree.add(y_x)\n",
    "    \n",
    "    XE = [x]\n",
    "    YE = [y_x]\n",
    "    P = [x]\n",
    "    y_P = [y_x]\n",
    "    Pa = []\n",
    "    y_Pa = []\n",
    "    new_XE = []\n",
    "    new_YE = []\n",
    "    \n",
    "    y_P_done = []\n",
    "    solutions = []\n",
    "    y_solutions = []\n",
    "    \n",
    "    while P:\n",
    "        for p in P:\n",
    "            #print(\"P =\", [eval_solution(p,data) for p in P])\n",
    "            y_p = eval_solution(p,data)\n",
    "            N = generate_neighbours(p,data) # voisins de p\n",
    "            \n",
    "            for sol in XE + [p] + N:\n",
    "                y_sol = eval_solution(sol,data)\n",
    "                if y_sol not in y_P_done and y_sol not in y_solutions:\n",
    "                    solutions.append(sol)\n",
    "                    y_solutions.append(y_sol)\n",
    "                    ndtree.add(y_sol)\n",
    "                    \n",
    "            new_YE = copy.deepcopy(ndtree.get_points())\n",
    "            new_XE = [solutions[y_solutions.index(y_x)] for y_x in new_YE]\n",
    "            \n",
    "            for xe in new_XE:\n",
    "                yxe = eval_solution(xe,data)\n",
    "                if yxe not in y_P_done and yxe not in y_Pa:\n",
    "                    Pa.append(xe)\n",
    "                    y_Pa.append(yxe)\n",
    "                    \n",
    "            y_P_done.append(y_p)\n",
    "            \n",
    "            XE = new_XE\n",
    "            YE = new_YE\n",
    "            #print(\"x =\", y_p)\n",
    "            #print(\"N =\",[eval_solution(n,data) for n in N])\n",
    "            #print(\"YE =\", YE,\"\\n\")\n",
    "            #print(\"P_done =\", y_P_done,\"\\n\")  \n",
    "        P = Pa\n",
    "        Pa = []\n",
    "    return XE, YE"
   ]
  },
  {
   "cell_type": "code",
   "execution_count": 96,
   "metadata": {
    "scrolled": true
   },
   "outputs": [
    {
     "name": "stdout",
     "output_type": "stream",
     "text": [
      "Valuations de chaque objet constituant l'ensemble des données : [[1, 34], [9, 53], [52, 44], [67, 70], [69, 81], [70, 52], [21, 45], [2, 11], [98, 76], [26, 30]] \n",
      "\n",
      "Solutions trouvées par PLS avec un ND Tree: [[0, 0, 1, 1, 1, 1, 0, 0, 1, 0], [0, 1, 0, 1, 1, 1, 0, 0, 1, 0], [0, 0, 0, 1, 1, 1, 1, 0, 1, 0]] \n",
      "\n",
      "Leurs évaluations : [[356, 323], [313, 332], [325, 324]]\n"
     ]
    }
   ],
   "source": [
    "# Exemple d'utilisation\n",
    "n = 10\n",
    "p = 2\n",
    "data = get_data(n,p)\n",
    "print(\"Valuations de chaque objet constituant l'ensemble des données :\", data,\"\\n\")\n",
    "solutions, y_solutions = PLS_nd_tree(p,n//2,get_data(n,p))\n",
    "print(\"Solutions trouvées par PLS avec un ND Tree:\",solutions,\"\\n\")\n",
    "print(\"Leurs évaluations :\",y_solutions)"
   ]
  },
  {
   "cell_type": "markdown",
   "metadata": {},
   "source": [
    "#### 2) Détermination de la solution préférée du décideur parmi les solutions non dominées trouvées à l’aide d’une procédure d’élicitation incrémentale"
   ]
  },
  {
   "cell_type": "code",
   "execution_count": 18,
   "metadata": {},
   "outputs": [],
   "source": [
    "class PMR:\n",
    "    \"\"\"\n",
    "        Classe permettant de calculer les regrets parire à paire pour chaque paire de solutions d'un ensemble\n",
    "        de solutions donné.\n",
    "        C'est dans l'instance de PMR créée que l'on va restreindre l'ensemble des poids pouvant représenter\n",
    "        les préférences du Décideur à chacune de ses réponses.\n",
    "    \"\"\"\n",
    "    def __init__(self, p):\n",
    "        self.p = p\n",
    "        \n",
    "    def set_model(self, phi):\n",
    "        if phi == 'weighted sum' or phi == \"OWA\":\n",
    "            self.model = Model(\"Pairwise Max Regret Weighted Sum\")\n",
    "            self.model.setParam(\"OutputFlag\",0)\n",
    "            self.p = p\n",
    "            self.w = [] # poids cohérents avec les préférences connues du Décideur\n",
    "            for i in range(self.p):\n",
    "                self.w.append(self.model.addVar(vtype=GRB.CONTINUOUS))\n",
    "            for i in range(self.p):\n",
    "                self.addConstraint(self.w[i] >= 0)\n",
    "                self.addConstraint(quicksum(self.w[i] for i in range(len(self.w))) == 1)\n",
    "            \n",
    "    def get_value_weighted_sum(self, x, y):\n",
    "        self.model.setObjective(quicksum(self.w[i] * y[i] for i in range(len(self.w))) - quicksum(self.w[i] * x[i] for i in range(len(self.w))), GRB.MAXIMIZE)\n",
    "        self.model.optimize()\n",
    "        obj = self.model.getObjective()\n",
    "        return obj.getValue()\n",
    "    \n",
    "    def get_value_OWA(self, x, y):\n",
    "        x = sorted(x)\n",
    "        y = sorted(y)\n",
    "        self.model.setObjective(quicksum(self.w[i] * y[i] for i in range(len(self.w))) - quicksum(self.w[i] * x[i] for i in range(len(self.w))), GRB.MAXIMIZE)\n",
    "        self.model.optimize()\n",
    "        obj = self.model.getObjective()\n",
    "        return obj.getValue()\n",
    "\n",
    "    def addConstraint(self, constr):\n",
    "        self.model.addConstr(constr)"
   ]
  },
  {
   "cell_type": "code",
   "execution_count": 97,
   "metadata": {},
   "outputs": [],
   "source": [
    "def incremental_elicitation(solutions, y_solutions, w, mmr_threshold, phi, pairwise_max_regret):\n",
    "    \n",
    "    mmr = np.inf # regret minimax\n",
    "    nb_queries = 0 # nombre de questions posées au Décideur\n",
    "    \n",
    "    minimax_regrets = [] # évolution du regret minimax\n",
    "    nb_queries_evol = []\n",
    "    \n",
    "    while mmr > mmr_threshold:\n",
    "        \n",
    "        # Calcul des pairwise max regrets\n",
    "        pmr = []\n",
    "        for i in range(len(y_solutions)):\n",
    "            l = []\n",
    "            for j in range(len(y_solutions)):\n",
    "                if i != j:\n",
    "                    if phi == 'weighted sum':\n",
    "                        l.append(pairwise_max_regret.get_value_weighted_sum(y_solutions[i], y_solutions[j]))\n",
    "                    elif phi == 'OWA':\n",
    "                        l.append(pairwise_max_regret.get_value_OWA(y_solutions[i], y_solutions[j]))\n",
    "                else:\n",
    "                    l.append(0)\n",
    "            pmr.append(l)\n",
    "        pmr = np.array(pmr)\n",
    "        \n",
    "        # Calcul des regrets maximaux\n",
    "        mr = np.amax(pmr, axis=1)\n",
    "        argmax_pmr = np.unique(np.argmax(pmr, axis=1))\n",
    "        \n",
    "        # Calcul des regrets minimax\n",
    "        mmr = np.amin(mr)\n",
    "        argmin_mr = np.argmin(mr)\n",
    "        \n",
    "        opt = solutions[argmin_mr]\n",
    "        y_opt = y_solutions[argmin_mr]\n",
    "        \n",
    "        # print(\"Nombre de questions posées :\",nb_queries)\n",
    "        # print(\"MMR =\",mmr,\"\\n\")\n",
    "        \n",
    "        minimax_regrets.append(mmr)\n",
    "        nb_queries_evol.append(nb_queries)\n",
    "    \n",
    "        # CSS\n",
    "        if mmr > mmr_threshold and len(argmax_pmr) > 1:\n",
    "            x = y_solutions[argmin_mr] # solution x qui minimise le regret maximal\n",
    "            y = y_solutions[random.choice(argmax_pmr)] # solution y qui maximise le regret paire à paire\n",
    "            while y == x:\n",
    "                y = y_solutions[random.choice(argmax_pmr)]\n",
    "            \n",
    "            # Evaluation de x et y selon la fonction d'agregation phi\n",
    "            phi_x = 0\n",
    "            phi_y = 0\n",
    "            \n",
    "            if phi == 'weighted sum':\n",
    "                phi_x = weighted_sum(x,w)\n",
    "                phi_y = weighted_sum(y,w)\n",
    "\n",
    "            elif phi == \"OWA\":\n",
    "                phi_x = OWA(x,w)\n",
    "                phi_y = OWA(y,w)\n",
    "                \n",
    "            if phi_x > phi_y:\n",
    "                #print(\"Le Decideur repond : je prefere\", x, \"à\", y)donnéesdonnées\n",
    "                # On ajoute le fait que w*x >= w*y pour le Décideur,\n",
    "                # on diminue ainsi le nombre de vecteurs pouvant\n",
    "                # représenter ses préférences\n",
    "                pairwise_max_regret.addConstraint(quicksum(pairwise_max_regret.w[i] * x[i] for i in range(len(pairwise_max_regret.w))) >= quicksum(pairwise_max_regret.w[i] * y[i] for i in range(len(pairwise_max_regret.w))))\n",
    "                solutions.remove(solutions[y_solutions.index(y)])\n",
    "                y_solutions.remove(y)\n",
    "            else:\n",
    "                #print(\"Le Decideur repond : je prefere\", y, \"à\", x)\n",
    "                # On ajoute le fait que w*y >= w*x pour le Décideur,\n",
    "                # on diminue ainsi le nombre de vecteurs pouvant\n",
    "                # représenter ses préférences\n",
    "                pairwise_max_regret.addConstraint(quicksum(pairwise_max_regret.w[i] * y[i] for i in range(len(pairwise_max_regret.w))) >= quicksum(pairwise_max_regret.w[i] * x[i] for i in range(len(pairwise_max_regret.w))))\n",
    "                solutions.remove(solutions[y_solutions.index(x)])\n",
    "                y_solutions.remove(x)\n",
    "            nb_queries += 1\n",
    "                \n",
    "    return opt, y_opt, nb_queries, minimax_regrets, nb_queries_evol"
   ]
  },
  {
   "cell_type": "code",
   "execution_count": 98,
   "metadata": {},
   "outputs": [
    {
     "name": "stdout",
     "output_type": "stream",
     "text": [
      "Vecteur représentant les préférences du Décideur : [0.6377317897194313, 0.3622682102805687] \n",
      "\n",
      "Solution trouvée par élicitation incrémentale: [0, 0, 1, 1, 1, 1, 0, 0, 1, 0] \n",
      "\n",
      "Valeur de cette solution : [356, 323] \n",
      "\n",
      "Nombre de questions posées au Décideur : 1\n"
     ]
    }
   ],
   "source": [
    "# Exemple d'utilisation\n",
    "n = 10\n",
    "p = 2\n",
    "phi = 'weighted sum'\n",
    "w = np.random.rand(p)\n",
    "w = [w[i] / sum(w) for i in range(p)]\n",
    "pairwise_max_regret = PMR(len(w))\n",
    "pairwise_max_regret.set_model(phi)\n",
    "solutions_PLS, y_solutions_PLS = PLS_nd_tree(p,n//2,get_data(n,p))\n",
    "opt, y_opt, nb_queries, _, _ = incremental_elicitation(solutions_PLS,y_solutions_PLS,w,0,phi,pairwise_max_regret)\n",
    "print(\"Vecteur représentant les préférences du Décideur :\",w,\"\\n\")\n",
    "print(\"Solution trouvée par élicitation incrémentale:\",opt,\"\\n\")\n",
    "print(\"Valeur de cette solution :\",y_opt,\"\\n\")\n",
    "print(\"Nombre de questions posées au Décideur :\",nb_queries)"
   ]
  },
  {
   "cell_type": "code",
   "execution_count": 99,
   "metadata": {},
   "outputs": [
    {
     "name": "stdout",
     "output_type": "stream",
     "text": [
      "Vecteur représentant les préférences du Décideur : [0.5191194950636643, 0.4808805049363357] \n",
      "\n",
      "Solution trouvée par élicitation incrémentale: [0, 0, 1, 1, 1, 1, 0, 0, 1, 0] \n",
      "\n",
      "Valeur de cette solution : [356, 323] \n",
      "\n",
      "Nombre de questions posées au Décideur : 1\n"
     ]
    }
   ],
   "source": [
    "# Exemple d'utilisation\n",
    "n = 10\n",
    "p = 2\n",
    "phi = 'OWA'\n",
    "w = np.random.rand(p)\n",
    "w = [w[i] / sum(w) for i in range(p)]\n",
    "w = list(reversed(sorted(w)))\n",
    "pairwise_max_regret = PMR(len(w))\n",
    "pairwise_max_regret.set_model(phi)\n",
    "solutions_PLS, y_solutions_PLS = PLS_nd_tree(p,n//2,get_data(n,p))\n",
    "opt, y_opt, nb_queries, _, _ = incremental_elicitation(solutions_PLS,y_solutions_PLS,w,0,phi,pairwise_max_regret)\n",
    "print(\"Vecteur représentant les préférences du Décideur :\",w,\"\\n\")\n",
    "print(\"Solution trouvée par élicitation incrémentale:\",opt,\"\\n\")\n",
    "print(\"Valeur de cette solution :\",y_opt,\"\\n\")\n",
    "print(\"Nombre de questions posées au Décideur :\",nb_queries)"
   ]
  },
  {
   "cell_type": "markdown",
   "metadata": {},
   "source": [
    "### Deuxième procédure de résolution"
   ]
  },
  {
   "cell_type": "code",
   "execution_count": 100,
   "metadata": {},
   "outputs": [],
   "source": [
    "def interactive_local_search(data, n, k, w, mmr_threshold, phi):\n",
    "    x = generate_random_solution(n,k)\n",
    "    N = generate_neighbours(x, data)\n",
    "    dominated = [x] # ensemble des solutions dominées déjà traitées\n",
    "    y_S_done = [eval_solution(x, data)]\n",
    "    l = [sol for sol in N + [x] if sol not in dominated]\n",
    "    solutions = []\n",
    "    y_solutions = []\n",
    "    for sol in l:\n",
    "        solutions.append(sol)\n",
    "        y_sol = eval_solution(sol,data)\n",
    "        y_solutions.append(y_sol)\n",
    "    nd, y_nd  = non_dominated_solutions(l, data)\n",
    "    #print(\"Solution courante :\",eval_solution(x, data))\n",
    "    #print(\"Solutions non dominées parmi elle et ses voisins:\",y_solutions)\n",
    "    pairwise_max_regret = PMR(len(w))\n",
    "    pairwise_max_regret.set_model(phi)\n",
    "    nb_queries = 0\n",
    "    opt, y_opt, nb_q, _, _ = incremental_elicitation(nd, y_nd , w, mmr_threshold, phi, pairwise_max_regret)\n",
    "    nb_queries += nb_q\n",
    "    #print(\"Solution préférée du Décideur :\",y_opt)\n",
    "    #print(\"Nombre de questions posées :\",nb_queries)\n",
    "    while opt != x:\n",
    "        x = opt\n",
    "        #print(\"Solution courante :\",eval_solution(x, data))\n",
    "        N = generate_neighbours(x, data)\n",
    "        l = [sol for sol in N + [x] if sol not in dominated]\n",
    "        for sol in N + [x]:\n",
    "            if sol not in l:\n",
    "                dominated.append(sol)\n",
    "                if sol in solutions:\n",
    "                    solutions.remove(sol)\n",
    "                    y_sol = eval_solution(sol,data)\n",
    "                    y_solutions.remove(y_sol)\n",
    "            else:\n",
    "                solutions.append(sol)\n",
    "                y_sol = eval_solution(sol,data)\n",
    "                y_solutions.append(y_sol)\n",
    "        nd, y_nd = non_dominated_solutions(l, data)\n",
    "        #print(\"Solutions non dominées parmi elle et ses voisins:\",y_solutions)\n",
    "        opt, y_opt, nb_q, _, _ = incremental_elicitation(nd, y_nd , w, mmr_threshold, phi, pairwise_max_regret)\n",
    "        #print(\"Solution préférée du Décideur :\",y_opt)\n",
    "        nb_queries += nb_q\n",
    "        #print(\"Nombre de questions posées :\",nb_queries)\n",
    "    return opt, y_opt, nb_queries, y_solutions"
   ]
  },
  {
   "cell_type": "code",
   "execution_count": 102,
   "metadata": {},
   "outputs": [
    {
     "name": "stdout",
     "output_type": "stream",
     "text": [
      "Vecteur représentant les préférences du Décideur : [0.39882491937213593, 0.6011750806278641] \n",
      "\n",
      "Solution trouvée par recherche locale interactive: [0, 0, 1, 1, 1, 1, 0, 0, 1, 0] \n",
      "\n",
      "Valeur de cette solution : [356, 323] \n",
      "\n",
      "Nombre de questions posées au Décideur : 6\n"
     ]
    }
   ],
   "source": [
    "# Exemple d'utilisation\n",
    "n = 10\n",
    "p = 2\n",
    "phi = 'weighted sum'\n",
    "w = np.random.rand(p)\n",
    "w = [w[i] / sum(w) for i in range(p)]\n",
    "opt, y_opt, nb_queries, _ = interactive_local_search(get_data(n,p),n,n//2,w,0,phi)\n",
    "print(\"Vecteur représentant les préférences du Décideur :\",w,\"\\n\")\n",
    "print(\"Solution trouvée par recherche locale interactive:\",opt,\"\\n\")\n",
    "print(\"Valeur de cette solution :\",y_opt,\"\\n\")\n",
    "print(\"Nombre de questions posées au Décideur :\",nb_queries)"
   ]
  },
  {
   "cell_type": "code",
   "execution_count": 103,
   "metadata": {},
   "outputs": [],
   "source": [
    "def interactive_local_search_nd_tree(data, n, k, w, mmr_threshold, phi):\n",
    "    ndtree = NDTree(20,p+1)\n",
    "    x = generate_random_solution(n,k)\n",
    "    neighbours = generate_neighbours(x, data)\n",
    "    dominated = [x] # ensemble des solutions déjà traitées\n",
    "    l = [sol for sol in neighbours + [x] if sol not in dominated]\n",
    "    solutions = []\n",
    "    y_solutions = []\n",
    "    for sol in l:\n",
    "        solutions.append(sol)\n",
    "        y_sol = eval_solution(sol,data)\n",
    "        y_solutions.append(y_sol)\n",
    "        ndtree.add(y_sol)\n",
    "    y_nd = copy.deepcopy(ndtree.get_points()) \n",
    "    nd = [solutions[y_solutions.index(y_x)] for y_x in y_nd] # solutions non dominées parmi x et ses voisins\n",
    "    #print(\"Solution courante :\",eval_solution(x, data))\n",
    "    #print(\"Solutions non dominées parmi elle et ses voisins:\",y_nd)\n",
    "    pairwise_max_regret = PMR(len(w))\n",
    "    pairwise_max_regret.set_model(phi)\n",
    "    nb_queries = 0\n",
    "    opt, y_opt, nb_q, _, _ = incremental_elicitation(nd, y_nd, w, mmr_threshold, phi, pairwise_max_regret)\n",
    "    nb_queries += nb_q\n",
    "    #print(\"Solution préférée du Décideur :\",y_opt)\n",
    "    #print(\"Nombre de questions posées :\",nb_queries)\n",
    "    while opt != x:\n",
    "        x = opt\n",
    "        #print(\"Solution courante :\",eval_solution(x, data))\n",
    "        neighbours = generate_neighbours(x, data)\n",
    "        l = [sol for sol in neighbours + [x] if sol not in dominated]\n",
    "        for sol in neighbours + [x]:\n",
    "            if sol not in l:\n",
    "                dominated.append(sol)\n",
    "                if sol in solutions:\n",
    "                    solutions.remove(sol)\n",
    "                    y_sol = eval_solution(sol,data)\n",
    "                    y_solutions.remove(y_sol)\n",
    "            else:\n",
    "                solutions.append(sol)\n",
    "                y_sol = eval_solution(sol,data)\n",
    "                y_solutions.append(y_sol)\n",
    "                ndtree.add(y_sol)\n",
    "        y_nd = copy.deepcopy(ndtree.get_points()) \n",
    "        nd = [solutions[y_solutions.index(y_x)] for y_x in y_nd]\n",
    "        #print(\"Solutions non dominées parmi elle et ses voisins:\",y_nd)\n",
    "        opt, y_opt, nb_q, _, _ = incremental_elicitation(nd, y_nd, w, mmr_threshold, phi, pairwise_max_regret)\n",
    "        #print(\"Solution préférée du Décideur :\",y_opt)\n",
    "        nb_queries += nb_q\n",
    "        #print(\"Nombre de questions posées :\",nb_queries)\n",
    "    return opt, y_opt, nb_queries, y_solutions"
   ]
  },
  {
   "cell_type": "code",
   "execution_count": 104,
   "metadata": {},
   "outputs": [
    {
     "name": "stdout",
     "output_type": "stream",
     "text": [
      "Vecteur représentant les préférences du Décideur : [0.5118693838366125, 0.4881306161633875] \n",
      "\n",
      "Solution trouvée par recherche locale interactive: [0, 0, 1, 1, 1, 1, 0, 0, 1, 0] \n",
      "\n",
      "Valeur de cette solution : [356, 323] \n",
      "\n",
      "Nombre de questions posées au Décideur : 1\n"
     ]
    }
   ],
   "source": [
    "# Exemple d'utilisation\n",
    "n = 10\n",
    "p = 2\n",
    "phi = 'weighted sum'\n",
    "w = np.random.rand(p)\n",
    "w = [w[i] / sum(w) for i in range(p)]\n",
    "opt, y_opt, nb_queries, _ = interactive_local_search_nd_tree(get_data(n,p),n,n//2,w,0,phi)\n",
    "print(\"Vecteur représentant les préférences du Décideur :\",w,\"\\n\")\n",
    "print(\"Solution trouvée par recherche locale interactive:\",opt,\"\\n\")\n",
    "print(\"Valeur de cette solution :\",y_opt,\"\\n\")\n",
    "print(\"Nombre de questions posées au Décideur :\",nb_queries)"
   ]
  },
  {
   "cell_type": "markdown",
   "metadata": {},
   "source": [
    "### Données et comparaison des deux procédures de résolution"
   ]
  },
  {
   "cell_type": "markdown",
   "metadata": {},
   "source": [
    "#### Tests numériques"
   ]
  },
  {
   "cell_type": "code",
   "execution_count": 26,
   "metadata": {},
   "outputs": [],
   "source": [
    "def quality_measure_PLS(n, p, data):\n",
    "    PF = []\n",
    "    with open('FrontsPareto/PF_' + str(n) + '_' + str(p) + '.txt', 'r') as f:\n",
    "        for line in f.readlines():\n",
    "            PF.append(list(map(int,line.split())))\n",
    "            \n",
    "    t_debut = time.time()\n",
    "    YE_PLS = PLS(n//2,data)[1]\n",
    "    t_fin = time.time()\n",
    "    acc = 0 # accuracy\n",
    "    for x in PF:\n",
    "        if x in YE_PLS:\n",
    "            acc += 1\n",
    "    acc /= len(PF)\n",
    "    print(\"Pourcentage de points non-dominés obtenus par PLS :\",acc*100,'%')\n",
    "    print(\"Temps de calcul :\" + str(t_fin - t_debut) + \" s\")\n",
    "    return acc"
   ]
  },
  {
   "cell_type": "code",
   "execution_count": 27,
   "metadata": {},
   "outputs": [
    {
     "name": "stdout",
     "output_type": "stream",
     "text": [
      "Pourcentage de points non-dominés obtenus par PLS : 100.0 %\n",
      "Temps de calcul :0.014096498489379883 s\n"
     ]
    }
   ],
   "source": [
    "n = 10\n",
    "p = 2\n",
    "q = quality_measure_PLS(n,p,get_data(n,p))"
   ]
  },
  {
   "cell_type": "code",
   "execution_count": 28,
   "metadata": {},
   "outputs": [
    {
     "name": "stdout",
     "output_type": "stream",
     "text": [
      "\n",
      "Paramètres : n = 10, p = 2\n",
      "Pourcentage de points non-dominés obtenus par PLS : 100.0 %\n",
      "Temps de calcul :0.037261247634887695 s\n",
      "\n",
      "Paramètres : n = 10, p = 3\n",
      "Pourcentage de points non-dominés obtenus par PLS : 100.0 %\n",
      "Temps de calcul :0.14707255363464355 s\n",
      "\n",
      "Paramètres : n = 10, p = 4\n",
      "Pourcentage de points non-dominés obtenus par PLS : 100.0 %\n",
      "Temps de calcul :0.6993169784545898 s\n",
      "\n",
      "Paramètres : n = 10, p = 5\n",
      "Pourcentage de points non-dominés obtenus par PLS : 100.0 %\n",
      "Temps de calcul :1.9535083770751953 s\n",
      "\n",
      "Paramètres : n = 10, p = 6\n",
      "Pourcentage de points non-dominés obtenus par PLS : 100.0 %\n",
      "Temps de calcul :2.340644598007202 s\n",
      "\n",
      "Paramètres : n = 20, p = 2\n",
      "Pourcentage de points non-dominés obtenus par PLS : 100.0 %\n",
      "Temps de calcul :0.4591829776763916 s\n"
     ]
    }
   ],
   "source": [
    "for n,p in [(10,2),(10,3),(10,4),(10,5),(10,6),(20,2)]:\n",
    "    print(\"\\nParamètres : n = \"+str(n)+\", p = \"+str(p))\n",
    "    quality_measure_PLS(n,p,get_data(n,p))"
   ]
  },
  {
   "cell_type": "code",
   "execution_count": 29,
   "metadata": {},
   "outputs": [],
   "source": [
    "def quality_measure_PLS_nd_tree(n, p, data):\n",
    "    PF = []\n",
    "    with open('FrontsPareto/PF_' + str(n) + '_' + str(p) + '.txt', 'r') as f:\n",
    "        for line in f.readlines():\n",
    "            PF.append(list(map(int,line.split())))\n",
    "            \n",
    "    t_debut = time.time()\n",
    "    YE_PLS = PLS_nd_tree(p,n//2,data)[1]\n",
    "    t_fin = time.time()\n",
    "    acc = 0 # accuracy\n",
    "    for x in PF:\n",
    "        if x in YE_PLS:\n",
    "            acc += 1\n",
    "    acc /= len(PF)\n",
    "    print(\"Pourcentage de points non-dominés obtenus par PLS :\",acc*100,'%')\n",
    "    print(\"Temps de calcul :\" + str(t_fin - t_debut) + \"s\")\n",
    "    return acc"
   ]
  },
  {
   "cell_type": "code",
   "execution_count": 30,
   "metadata": {
    "scrolled": true
   },
   "outputs": [
    {
     "name": "stdout",
     "output_type": "stream",
     "text": [
      "Pourcentage de points non-dominés obtenus par PLS : 100.0 %\n",
      "Temps de calcul :0.004523515701293945s\n"
     ]
    }
   ],
   "source": [
    "n = 10\n",
    "p = 2\n",
    "q = quality_measure_PLS_nd_tree(n,p,get_data(n,p))"
   ]
  },
  {
   "cell_type": "code",
   "execution_count": 31,
   "metadata": {},
   "outputs": [
    {
     "name": "stdout",
     "output_type": "stream",
     "text": [
      "\n",
      "Paramètres : n = 10, p = 2\n",
      "Pourcentage de points non-dominés obtenus par PLS : 100.0 %\n",
      "Temps de calcul :0.013870716094970703s\n",
      "\n",
      "Paramètres : n = 10, p = 3\n",
      "Pourcentage de points non-dominés obtenus par PLS : 100.0 %\n",
      "Temps de calcul :0.05199551582336426s\n",
      "\n",
      "Paramètres : n = 10, p = 4\n",
      "Pourcentage de points non-dominés obtenus par PLS : 100.0 %\n",
      "Temps de calcul :0.10653328895568848s\n",
      "\n",
      "Paramètres : n = 10, p = 5\n",
      "Pourcentage de points non-dominés obtenus par PLS : 100.0 %\n",
      "Temps de calcul :1.6826229095458984s\n",
      "\n",
      "Paramètres : n = 10, p = 6\n",
      "Pourcentage de points non-dominés obtenus par PLS : 100.0 %\n",
      "Temps de calcul :0.9274747371673584s\n",
      "\n",
      "Paramètres : n = 20, p = 2\n",
      "Pourcentage de points non-dominés obtenus par PLS : 100.0 %\n",
      "Temps de calcul :1.0195801258087158s\n"
     ]
    }
   ],
   "source": [
    "for n,p in [(10,2),(10,3),(10,4),(10,5),(10,6),(20,2)]:\n",
    "    print(\"\\nParamètres : n = \"+str(n)+\", p = \"+str(p))\n",
    "    quality_measure_PLS_nd_tree(n,p,get_data(n,p))"
   ]
  },
  {
   "cell_type": "code",
   "execution_count": 32,
   "metadata": {},
   "outputs": [],
   "source": [
    "def quality_measure_procedure_1(n, p, data, phi):\n",
    "    PF = []\n",
    "    with open('FrontsPareto/PF_' + str(n) + '_' + str(p) + '.txt', 'r') as f:\n",
    "        for line in f.readlines():\n",
    "            PF.append(list(map(int,line.split())))\n",
    "            \n",
    "    t = []\n",
    "    dist_erreurs = [] # distances euclidiennes entre la solution trouvée par l'algorithme et la solution préférée du Décideur\n",
    "    nb_queries = []\n",
    "    for i in range(20):\n",
    "        w = np.random.rand(p)\n",
    "        w = [w[i] / sum(w) for i in range(p)]\n",
    "        pairwise_max_regret = PMR(len(w))\n",
    "        pairwise_max_regret.set_model(phi)\n",
    "        t_debut = time.time()\n",
    "        solutions_PLS, y_solutions = PLS(n//2,get_data(n,p))\n",
    "        _, y_opt, nb_q, mmr, _ = incremental_elicitation(solutions_PLS,y_solutions,w,0,phi,pairwise_max_regret)\n",
    "        t_fin = time.time()\n",
    "        t.append(t_fin - t_debut)\n",
    "        evaluations = []\n",
    "        for j in range(len(solutions_PLS)):\n",
    "            evaluations.append(sum([w[k]*y_solutions[j][k] for k in range(len(w))]))\n",
    "        true_opt = y_solutions[np.argmax(evaluations)]\n",
    "        #print(y_opt, true_opt)\n",
    "        dist_erreurs.append(euclidian_distance(y_opt,true_opt))\n",
    "        nb_queries.append(nb_q)\n",
    "        \n",
    "    print(\"Temps de calcul moyen :\" + str(np.mean(t)) + \"s\")\n",
    "    print(\"Erreur moyenne par rapport à la solution optimale du décideur :\", np.mean(dist_erreurs))\n",
    "    print(\"\\nNombre moyen de questions posées :\", np.mean(nb_queries))\n",
    "    return"
   ]
  },
  {
   "cell_type": "code",
   "execution_count": 33,
   "metadata": {},
   "outputs": [
    {
     "name": "stdout",
     "output_type": "stream",
     "text": [
      "Temps de calcul moyen :0.02949646711349487s\n",
      "Erreur moyenne par rapport à la solution optimale du décideur : 0.0\n",
      "\n",
      "Nombre moyen de questions posées : 1.0\n"
     ]
    }
   ],
   "source": [
    "n = 10\n",
    "p = 2\n",
    "phi = 'weighted sum'\n",
    "quality_measure_procedure_1(n,p,get_data(n,p),phi)"
   ]
  },
  {
   "cell_type": "code",
   "execution_count": 34,
   "metadata": {},
   "outputs": [],
   "source": [
    "def quality_measure_procedure_1_nd_tree(n, p, data, phi):\n",
    "    PF = []\n",
    "    with open('FrontsPareto/PF_' + str(n) + '_' + str(p) + '.txt', 'r') as f:\n",
    "        for line in f.readlines():\n",
    "            PF.append(list(map(int,line.split())))\n",
    "            \n",
    "    t = []\n",
    "    nb_queries = []\n",
    "    dist_erreurs = [] # distances euclidiennes entre la solution trouvée par l'algorithme et la solution préférée du Décideur\n",
    "    for i in range(20):\n",
    "        if phi == 'weighted sum':\n",
    "            w = np.random.rand(p)\n",
    "            w = [w[i] / sum(w) for i in range(p)]\n",
    "        elif phi == 'OWA':\n",
    "            w = np.random.rand(p)\n",
    "            w = [w[i] / sum(w) for i in range(p)]\n",
    "            w = list(reversed(sorted(w)))\n",
    "        pairwise_max_regret = PMR(len(w))\n",
    "        pairwise_max_regret.set_model(phi)\n",
    "        t_debut = time.time()\n",
    "        solutions_PLS, y_solutions = PLS_nd_tree(p,n//2,get_data(n,p))\n",
    "        _, y_opt, nb_q, _, _ = incremental_elicitation(solutions_PLS,y_solutions,w,0,phi,pairwise_max_regret)\n",
    "        t_fin = time.time()\n",
    "        t.append(t_fin - t_debut)\n",
    "        evaluations = []\n",
    "        for j in range(len(solutions_PLS)):\n",
    "            evaluations.append(sum([w[k]*y_solutions[j][k] for k in range(len(w))]))\n",
    "        true_opt = y_solutions[np.argmax(evaluations)]\n",
    "        #print(y_opt, true_opt)\n",
    "        dist_erreurs.append(euclidian_distance(y_opt,true_opt))\n",
    "        nb_queries.append(nb_q)\n",
    "        \n",
    "    print(\"Temps moyen de calcul :\" + str(np.mean(t)) + \"s\")\n",
    "    print(\"Erreur moyenne par rapport à la solution optimale du décideur :\", np.mean(dist_erreurs))\n",
    "    print(\"Nombre moyen de questions posées :\", np.mean(nb_queries))\n",
    "    return"
   ]
  },
  {
   "cell_type": "code",
   "execution_count": 35,
   "metadata": {},
   "outputs": [
    {
     "name": "stdout",
     "output_type": "stream",
     "text": [
      "\n",
      "Paramètres : n = 10, p = 2\n",
      "Temps moyen de calcul :0.013520073890686036s\n",
      "Erreur moyenne par rapport à la solution optimale du décideur : 0.0\n",
      "Nombre moyen de questions posées : 1.0\n"
     ]
    }
   ],
   "source": [
    "n = 10\n",
    "p = 2\n",
    "phi = 'weighted sum'\n",
    "print(\"\\nParamètres : n = \"+str(n)+\", p = \"+str(p))\n",
    "quality_measure_procedure_1_nd_tree(n,p,get_data(n,p),phi)"
   ]
  },
  {
   "cell_type": "code",
   "execution_count": 36,
   "metadata": {},
   "outputs": [
    {
     "name": "stdout",
     "output_type": "stream",
     "text": [
      "\n",
      "Paramètres : n = 10, p = 2\n",
      "Temps moyen de calcul :0.011863458156585693s\n",
      "Erreur moyenne par rapport à la solution optimale du décideur : 0.0\n",
      "Nombre moyen de questions posées : 1.0\n",
      "\n",
      "Paramètres : n = 10, p = 3\n",
      "Temps moyen de calcul :0.0976869821548462s\n",
      "Erreur moyenne par rapport à la solution optimale du décideur : 0.0\n",
      "Nombre moyen de questions posées : 3.15\n",
      "\n",
      "Paramètres : n = 10, p = 4\n",
      "Temps moyen de calcul :1.75401314496994s\n",
      "Erreur moyenne par rapport à la solution optimale du décideur : 0.0\n",
      "Nombre moyen de questions posées : 7.35\n",
      "\n",
      "Paramètres : n = 10, p = 5\n",
      "Temps moyen de calcul :8.481432008743287s\n",
      "Erreur moyenne par rapport à la solution optimale du décideur : 0.0\n",
      "Nombre moyen de questions posées : 9.9\n",
      "\n",
      "Paramètres : n = 20, p = 2\n",
      "Temps moyen de calcul :0.46849770545959474s\n",
      "Erreur moyenne par rapport à la solution optimale du décideur : 0.0\n",
      "Nombre moyen de questions posées : 3.8\n"
     ]
    }
   ],
   "source": [
    "phi = 'weighted sum'\n",
    "for n,p in [(10,2),(10,3),(10,4),(10,5),(20,2)]:\n",
    "    print(\"\\nParamètres : n = \"+str(n)+\", p = \"+str(p))\n",
    "    quality_measure_procedure_1_nd_tree(n,p,get_data(n,p),phi)"
   ]
  },
  {
   "cell_type": "code",
   "execution_count": 37,
   "metadata": {},
   "outputs": [],
   "source": [
    "def quality_measure_procedure_2(n, p, data, phi):\n",
    "    PF = []\n",
    "    with open('FrontsPareto/PF_' + str(n) + '_' + str(p) + '.txt', 'r') as f:\n",
    "        for line in f.readlines():\n",
    "            PF.append(list(map(int,line.split())))\n",
    "            \n",
    "    t = []\n",
    "    dist_erreurs = [] # distances euclidiennes entre la solution trouvée par l'algorithme et la solution préférée du Décideur\n",
    "    nb_queries = []\n",
    "    for i in range(20):\n",
    "        if phi == 'weighted sum':\n",
    "            w = np.random.rand(p)\n",
    "            w = [w[i] / sum(w) for i in range(p)]\n",
    "        elif phi == 'OWA':\n",
    "            w = np.random.rand(p)\n",
    "            w = [w[i] / sum(w) for i in range(p)]\n",
    "            w = list(reversed(sorted(w)))\n",
    "        t_debut = time.time()\n",
    "        _, y_opt, nb_q, y_solutions = interactive_local_search(data,n,n//2,w,0,phi)\n",
    "        t_fin = time.time()\n",
    "        #print(t_fin - t_debut)\n",
    "        t.append(t_fin - t_debut)\n",
    "        evaluations = []\n",
    "        for j in range(len(y_solutions)):\n",
    "            evaluations.append(sum([w[k]*y_solutions[j][k] for k in range(len(w))]))\n",
    "        true_opt = y_solutions[np.argmax(evaluations)]\n",
    "        dist_erreurs.append(euclidian_distance(y_opt,true_opt))\n",
    "        nb_queries.append(nb_q)\n",
    "        \n",
    "    print(\"Temps moyen de calcul :\" + str(np.mean(t)) + \"s\")\n",
    "    print(\"Erreur moyenne par rapport à la solution optimale du décideur :\", np.mean(dist_erreurs))\n",
    "    print(\"\\nNombre moyen de questions posées :\", np.mean(nb_queries))\n",
    "    return"
   ]
  },
  {
   "cell_type": "code",
   "execution_count": 38,
   "metadata": {},
   "outputs": [
    {
     "name": "stdout",
     "output_type": "stream",
     "text": [
      "Temps moyen de calcul :0.008122003078460694s\n",
      "Erreur moyenne par rapport à la solution optimale du décideur : 0.0\n",
      "\n",
      "Nombre moyen de questions posées : 2.3\n"
     ]
    }
   ],
   "source": [
    "n = 10\n",
    "p = 2\n",
    "phi = 'weighted sum'\n",
    "quality_measure_procedure_2(n,p,get_data(n,p),phi)"
   ]
  },
  {
   "cell_type": "code",
   "execution_count": 39,
   "metadata": {},
   "outputs": [],
   "source": [
    "def quality_measure_procedure_2_nd_tree(n, p, data, phi):\n",
    "    PF = []\n",
    "    with open('FrontsPareto/PF_' + str(n) + '_' + str(p) + '.txt', 'r') as f:\n",
    "        for line in f.readlines():\n",
    "            PF.append(list(map(int,line.split())))\n",
    "            \n",
    "    t = []\n",
    "    dist_erreurs = [] # distances euclidiennes entre la solution trouvée par l'algorithme et la solution préférée du Décideur\n",
    "    nb_queries = []\n",
    "    for i in range(20):\n",
    "        if phi == 'weighted sum':\n",
    "            w = np.random.rand(p)\n",
    "            w = [w[i] / sum(w) for i in range(p)]\n",
    "        elif phi == 'OWA':\n",
    "            w = np.random.rand(p)\n",
    "            w = [w[i] / sum(w) for i in range(p)]\n",
    "            w = list(reversed(sorted(w)))\n",
    "        t_debut = time.time()\n",
    "        _, y_opt, nb_q, y_solutions = interactive_local_search_nd_tree(data,n,n//2,w,0,phi)\n",
    "        t_fin = time.time()\n",
    "        #print(t_fin - t_debut)\n",
    "        t.append(t_fin - t_debut)\n",
    "        evaluations = []\n",
    "        for j in range(len(y_solutions)):\n",
    "            evaluations.append(sum([w[k]*y_solutions[j][k] for k in range(len(w))]))\n",
    "        true_opt = y_solutions[np.argmax(evaluations)]\n",
    "        dist_erreurs.append(euclidian_distance(y_opt,true_opt))\n",
    "        nb_queries.append(nb_q)\n",
    "    \n",
    "    mean_t = np.mean(t)\n",
    "    mean_dist_erreurs = np.mean(dist_erreurs)\n",
    "    mean_nb_queries = np.mean(nb_queries)\n",
    "    \n",
    "    print(\"Temps moyen de calcul :\" + str(mean_t) + \"s\")\n",
    "    print(\"Erreur moyenne par rapport à la solution optimale du décideur :\", mean_dist_erreurs)\n",
    "    print(\"Nombre moyen de questions posées :\", mean_nb_queries)\n",
    "    return mean_t, mean_dist_erreurs, mean_nb_queries"
   ]
  },
  {
   "cell_type": "code",
   "execution_count": 40,
   "metadata": {},
   "outputs": [
    {
     "name": "stdout",
     "output_type": "stream",
     "text": [
      "Temps moyen de calcul :0.00687190294265747s\n",
      "Erreur moyenne par rapport à la solution optimale du décideur : 0.0\n",
      "Nombre moyen de questions posées : 2.55\n"
     ]
    },
    {
     "data": {
      "text/plain": [
       "(0.00687190294265747, 0.0, 2.55)"
      ]
     },
     "execution_count": 40,
     "metadata": {},
     "output_type": "execute_result"
    }
   ],
   "source": [
    "n = 10\n",
    "p = 2\n",
    "phi = 'weighted sum'\n",
    "quality_measure_procedure_2_nd_tree(n,p,get_data(n,p),phi)"
   ]
  },
  {
   "cell_type": "code",
   "execution_count": 41,
   "metadata": {},
   "outputs": [
    {
     "name": "stdout",
     "output_type": "stream",
     "text": [
      "Temps moyen de calcul :0.006398510932922363s\n",
      "Erreur moyenne par rapport à la solution optimale du décideur : 0.0\n",
      "Nombre moyen de questions posées : 1.8\n",
      "\n"
     ]
    }
   ],
   "source": [
    "n = 10\n",
    "p = 2\n",
    "phi = 'OWA'\n",
    "quality_measure_procedure_2_nd_tree(n,p,get_data(n,p),phi)\n",
    "print()"
   ]
  },
  {
   "cell_type": "code",
   "execution_count": 42,
   "metadata": {},
   "outputs": [
    {
     "name": "stdout",
     "output_type": "stream",
     "text": [
      "\n",
      "Paramètres : n = 10, p = 2\n",
      "Temps moyen de calcul :0.006042563915252685s\n",
      "Erreur moyenne par rapport à la solution optimale du décideur : 0.0\n",
      "Nombre moyen de questions posées : 2.0\n",
      "\n",
      "Paramètres : n = 10, p = 3\n",
      "Temps moyen de calcul :0.03704969882965088s\n",
      "Erreur moyenne par rapport à la solution optimale du décideur : 0.0\n",
      "Nombre moyen de questions posées : 5.45\n",
      "\n",
      "Paramètres : n = 10, p = 4\n",
      "Temps moyen de calcul :0.2618878960609436s\n",
      "Erreur moyenne par rapport à la solution optimale du décideur : 0.0\n",
      "Nombre moyen de questions posées : 11.2\n",
      "\n",
      "Paramètres : n = 10, p = 5\n",
      "Temps moyen de calcul :1.3359970092773437s\n",
      "Erreur moyenne par rapport à la solution optimale du décideur : 0.0\n",
      "Nombre moyen de questions posées : 17.85\n",
      "\n",
      "Paramètres : n = 20, p = 2\n",
      "Temps moyen de calcul :0.07164711952209472s\n",
      "Erreur moyenne par rapport à la solution optimale du décideur : 0.0\n",
      "Nombre moyen de questions posées : 6.7\n"
     ]
    }
   ],
   "source": [
    "phi = 'weighted sum'\n",
    "t,q = [],[]\n",
    "for n,p in [(10,2),(10,3),(10,4),(10,5),(20,2)]:\n",
    "    print(\"\\nParamètres : n = \"+str(n)+\", p = \"+str(p))\n",
    "    mean_t, mean_dist_erreurs, mean_nb_queries = quality_measure_procedure_2_nd_tree(n,p,get_data(n,p),phi)\n",
    "    t.append(mean_t)\n",
    "    q.append(mean_nb_queries)"
   ]
  },
  {
   "cell_type": "markdown",
   "metadata": {},
   "source": [
    "#### Courbes"
   ]
  },
  {
   "cell_type": "code",
   "execution_count": 43,
   "metadata": {},
   "outputs": [],
   "source": [
    "minimax_regrets_ws = []\n",
    "nb_queries_ev_ws = []\n",
    "phi = 'weighted sum'\n",
    "for i in range(20):\n",
    "    n,p = 20,2\n",
    "    w = np.random.rand(p)\n",
    "    w = [w[i] / sum(w) for i in range(p)]\n",
    "    pairwise_max_regret = PMR(len(w))\n",
    "    pairwise_max_regret.set_model(phi)\n",
    "    solutions_PLS, y_solutions_PLS = PLS_nd_tree(p,n//2,get_data(n,p))\n",
    "    opt, y_opt, nb_queries, mmr, nb_queries_evol = incremental_elicitation(solutions_PLS,y_solutions_PLS,w,0,phi,pairwise_max_regret)\n",
    "    minimax_regrets_ws.append(mmr)\n",
    "    nb_queries_ev_ws.append(nb_queries_evol)"
   ]
  },
  {
   "cell_type": "code",
   "execution_count": 44,
   "metadata": {},
   "outputs": [],
   "source": [
    "max_len = max([len(mmr) for mmr in minimax_regrets_ws])\n",
    "for i in range(len(minimax_regrets_ws)):\n",
    "    while len(minimax_regrets_ws[i]) < max_len:\n",
    "        minimax_regrets_ws[i].append(0)\n",
    "        nb_queries_ev_ws[i] = [0] + nb_queries_ev_ws[i]"
   ]
  },
  {
   "cell_type": "code",
   "execution_count": 45,
   "metadata": {},
   "outputs": [],
   "source": [
    "minimax_regrets_owa = []\n",
    "nb_queries_ev_owa = []\n",
    "phi = 'OWA' # poids décroissants\n",
    "for i in range(20):\n",
    "    n,p = 20,2\n",
    "    w = np.random.rand(p)\n",
    "    w = [w[i] / sum(w) for i in range(p)]\n",
    "    pairwise_max_regret = PMR(len(w))\n",
    "    pairwise_max_regret.set_model(phi)\n",
    "    solutions_PLS, y_solutions_PLS = PLS_nd_tree(p,n//2,get_data(n,p))\n",
    "    opt, y_opt, nb_queries, mmr, nb_queries_evol = incremental_elicitation(solutions_PLS,y_solutions_PLS,w,0,phi,pairwise_max_regret)\n",
    "    minimax_regrets_owa.append(mmr)\n",
    "    nb_queries_ev_owa.append(nb_queries_evol)"
   ]
  },
  {
   "cell_type": "code",
   "execution_count": 46,
   "metadata": {},
   "outputs": [],
   "source": [
    "max_len = max([len(mmr) for mmr in minimax_regrets_owa])\n",
    "for i in range(len(minimax_regrets_owa)):\n",
    "    while len(minimax_regrets_owa[i]) < max_len:\n",
    "        minimax_regrets_owa[i].append(0)\n",
    "        nb_queries_ev_owa[i] = [0] + nb_queries_ev_owa[i]"
   ]
  },
  {
   "cell_type": "code",
   "execution_count": 49,
   "metadata": {},
   "outputs": [
    {
     "data": {
      "image/png": "[encoded data removed]",
      "text/plain": [
       "<Figure size 432x288 with 1 Axes>"
      ]
     },
     "metadata": {
      "needs_background": "light"
     },
     "output_type": "display_data"
    }
   ],
   "source": [
    "fig = plt.Figure()\n",
    "ax = fig.add_subplot(111)\n",
    "\n",
    "mean_minimax_regrets_owa = np.mean(minimax_regrets_owa,axis=0)\n",
    "mean_minimax_regrets_ws = np.mean(minimax_regrets_ws,axis=0)\n",
    "\n",
    "mean_nb_queries_owa = np.mean(nb_queries_ev_owa,axis=0)\n",
    "mean_nb_queries_ws = np.mean(nb_queries_ev_ws,axis=0)\n",
    "\n",
    "minimax_regrets_hat_owa = savgol_filter(mean_minimax_regrets_owa, 5,4)\n",
    "minimax_regrets_hat_ws = savgol_filter(mean_minimax_regrets_ws, 5,4)\n",
    "\n",
    "plt.plot(mean_nb_queries_ws,minimax_regrets_hat_ws,'^r:',label='Somme pondérée')\n",
    "plt.plot(mean_nb_queries_owa,minimax_regrets_hat_owa,'s:',label='OWA')\n",
    "plt.xlabel('Nombre de questions posées')\n",
    "plt.ylabel('Minimax regret')\n",
    "plt.legend()\n",
    "plt.savefig('evol_mmr_q.png')\n",
    "plt.show()"
   ]
  },
  {
   "cell_type": "code",
   "execution_count": 50,
   "metadata": {
    "scrolled": false
   },
   "outputs": [
    {
     "name": "stdout",
     "output_type": "stream",
     "text": [
      "\n",
      "Paramètres : n = 10, p = 2\n",
      "Temps moyen de calcul :0.006918716430664063s\n",
      "Erreur moyenne par rapport à la solution optimale du décideur : 0.0\n",
      "Nombre moyen de questions posées : 2.65\n",
      "\n",
      "Paramètres : n = 20, p = 2\n",
      "Temps moyen de calcul :0.05977064371109009s\n",
      "Erreur moyenne par rapport à la solution optimale du décideur : 0.0\n",
      "Nombre moyen de questions posées : 6.1\n",
      "\n",
      "Paramètres : n = 30, p = 2\n",
      "Temps moyen de calcul :0.2254194974899292s\n",
      "Erreur moyenne par rapport à la solution optimale du décideur : 0.0\n",
      "Nombre moyen de questions posées : 7.75\n",
      "\n",
      "Paramètres : n = 40, p = 2\n",
      "Temps moyen de calcul :0.5324467182159424s\n",
      "Erreur moyenne par rapport à la solution optimale du décideur : 0.0\n",
      "Nombre moyen de questions posées : 7.8\n",
      "\n",
      "Paramètres : n = 50, p = 2\n",
      "Temps moyen de calcul :1.8062838077545167s\n",
      "Erreur moyenne par rapport à la solution optimale du décideur : 0.0\n",
      "Nombre moyen de questions posées : 8.05\n",
      "\n",
      "Paramètres : n = 60, p = 2\n",
      "Temps moyen de calcul :6.468482744693756s\n",
      "Erreur moyenne par rapport à la solution optimale du décideur : 0.0\n",
      "Nombre moyen de questions posées : 10.75\n"
     ]
    }
   ],
   "source": [
    "phi = 'weighted sum'\n",
    "t,q = [],[]\n",
    "for n,p in [(10,2),(20,2),(30,2),(40,2)]:\n",
    "    print(\"\\nParamètres : n = \"+str(n)+\", p = \"+str(p))\n",
    "    mean_t, mean_dist_erreurs, mean_nb_queries = quality_measure_procedure_2_nd_tree(n,p,get_data(n,p),phi)\n",
    "    t.append(mean_t)\n",
    "    q.append(mean_nb_queries)"
   ]
  }
 ],
 "metadata": {
  "anaconda-cloud": {},
  "kernelspec": {
   "display_name": "Python 3",
   "language": "python",
   "name": "python3"
  },
  "language_info": {
   "codemirror_mode": {
    "name": "ipython",
    "version": 3
   },
   "file_extension": ".py",
   "mimetype": "text/x-python",
   "name": "python",
   "nbconvert_exporter": "python",
   "pygments_lexer": "ipython3",
   "version": "3.5.6"
  }
 },
 "nbformat": 4,
 "nbformat_minor": 2
}
